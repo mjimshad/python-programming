{
 "cells": [
  {
   "cell_type": "markdown",
   "id": "9ba259f8",
   "metadata": {},
   "source": [
    "# 1. Write a Python Program to Find LCM?"
   ]
  },
  {
   "cell_type": "code",
   "execution_count": 8,
   "id": "e5e60571",
   "metadata": {},
   "outputs": [],
   "source": [
    "def lcm(x,y):\n",
    "    \"\"\"Function  to Find LCM\"\"\"\n",
    "    if (x>y):\n",
    "        greater = x\n",
    "    else:\n",
    "        greater = y\n",
    "    \n",
    "    while(True):\n",
    "        if (greater % x == 0) and (greater % y == 0):\n",
    "            lcm = greater\n",
    "            break\n",
    "        greater += 1\n",
    "    return lcm"
   ]
  },
  {
   "cell_type": "code",
   "execution_count": 9,
   "id": "35b43855",
   "metadata": {},
   "outputs": [
    {
     "data": {
      "text/plain": [
       "12"
      ]
     },
     "execution_count": 9,
     "metadata": {},
     "output_type": "execute_result"
    }
   ],
   "source": [
    "lcm(4,6)"
   ]
  },
  {
   "cell_type": "markdown",
   "id": "c36e7f35",
   "metadata": {},
   "source": [
    "# 2. Write a Python Program to Find HCF?"
   ]
  },
  {
   "cell_type": "code",
   "execution_count": 39,
   "id": "07450115",
   "metadata": {},
   "outputs": [],
   "source": [
    "def hcf(x,y):\n",
    "    \"\"\"Function to Find HCF\"\"\"\n",
    "    if (x > y):\n",
    "        smaller = y\n",
    "    else:\n",
    "        smaller = x\n",
    "    \n",
    "    for i in range(1,smaller + 1):\n",
    "        if ((x % i == 0) and (y % i == 0)):\n",
    "            hcf = i\n",
    "    return hcf"
   ]
  },
  {
   "cell_type": "code",
   "execution_count": 40,
   "id": "f84599da",
   "metadata": {},
   "outputs": [
    {
     "data": {
      "text/plain": [
       "4"
      ]
     },
     "execution_count": 40,
     "metadata": {},
     "output_type": "execute_result"
    }
   ],
   "source": [
    "hcf(8,12)"
   ]
  },
  {
   "cell_type": "markdown",
   "id": "e19f2799",
   "metadata": {},
   "source": [
    "# 3. Write a Python Program to Convert Decimal to Binary, Octal and Hexadecimal?"
   ]
  },
  {
   "cell_type": "code",
   "execution_count": 48,
   "id": "119da4b9",
   "metadata": {},
   "outputs": [],
   "source": [
    "class decimalToBOX:#Binary, Octal, Hexadecimal   \n",
    "    \n",
    "    def toBinary(self,dec):\n",
    "        print(\"Binary value of \",dec,\" is: \",bin(dec))\n",
    "        \n",
    "    def toOctal(self,dec):\n",
    "        print(\"Octal value of \",dec,\" is: \",oct(dec))\n",
    "        \n",
    "    def toHexa(self,dec):\n",
    "        print(\"Octal value of \",dec,\" is: \",hex(dec))"
   ]
  },
  {
   "cell_type": "code",
   "execution_count": 50,
   "id": "cadde1ea",
   "metadata": {},
   "outputs": [
    {
     "name": "stdout",
     "output_type": "stream",
     "text": [
      "Binary value of  344  is:  0b101011000\n",
      "Octal value of  344  is:  0o530\n",
      "Octal value of  344  is:  0x158\n"
     ]
    }
   ],
   "source": [
    "dec = decimalToBOX()\n",
    "dec.toBinary(344)\n",
    "dec.toOctal(344)\n",
    "dec.toHexa(344)"
   ]
  },
  {
   "cell_type": "markdown",
   "id": "a69e4cf8",
   "metadata": {},
   "source": [
    "# 4. Write a Python Program To Find ASCII value of a character?"
   ]
  },
  {
   "cell_type": "code",
   "execution_count": 51,
   "id": "40888275",
   "metadata": {},
   "outputs": [],
   "source": [
    "def asciiValue(a):\n",
    "    \"\"\"Function To Find ASCII value of a character\"\"\"\n",
    "    value = ord(a)\n",
    "    return value"
   ]
  },
  {
   "cell_type": "code",
   "execution_count": 54,
   "id": "d0b82fc1",
   "metadata": {},
   "outputs": [
    {
     "data": {
      "text/plain": [
       "75"
      ]
     },
     "execution_count": 54,
     "metadata": {},
     "output_type": "execute_result"
    }
   ],
   "source": [
    "asciiValue(\"K\")"
   ]
  },
  {
   "cell_type": "markdown",
   "id": "c156e03a",
   "metadata": {},
   "source": [
    "# 5. Write a Python Program to Make a Simple Calculator with 4 basic mathematical operations?"
   ]
  },
  {
   "cell_type": "code",
   "execution_count": 10,
   "id": "c361314f",
   "metadata": {},
   "outputs": [],
   "source": [
    "class calculator:\n",
    "    \n",
    "    def add(a,b):\n",
    "        return a + b\n",
    "        \n",
    "    def sub(a,b):\n",
    "        return a - b\n",
    "    \n",
    "    def mul(a,b):\n",
    "        return a * b\n",
    "    \n",
    "    def div(a,b):\n",
    "        return a / b\n"
   ]
  },
  {
   "cell_type": "code",
   "execution_count": 12,
   "id": "3011d7ff",
   "metadata": {},
   "outputs": [
    {
     "name": "stdout",
     "output_type": "stream",
     "text": [
      "Select an option\n",
      "a.Addition\n",
      "b.Substraction\n",
      "c.Multiplication\n",
      "d.Division\n",
      "Please select an option(a/b/c/d): a\n",
      "enter a number: 5\n",
      "enter a number: 10\n",
      "15\n"
     ]
    }
   ],
   "source": [
    "print(\"Select an option\")    \n",
    "print(\"a.Addition\")\n",
    "print(\"b.Substraction\")\n",
    "print(\"c.Multiplication\")\n",
    "print(\"d.Division\")\n",
    "\n",
    "choice = input(\"Please select an option(a/b/c/d): \")\n",
    "\n",
    "num1 = int(input(\"enter a number: \"))\n",
    "num2 = int(input(\"enter a number: \"))\n",
    "\n",
    "\n",
    "\n",
    "if choice == 'a':\n",
    "    print (calculator.add(num1,num2))\n",
    "    \n",
    "if choice == 'b':\n",
    "    print(calculator.sub(num1,num2))\n",
    "    \n",
    "if choice == 'c':\n",
    "    print(calculator.mul(num1,num2))\n",
    "    \n",
    "if choice == 'd':\n",
    "    print(calculator.div(num1,num2))"
   ]
  },
  {
   "cell_type": "code",
   "execution_count": null,
   "id": "b0a6ff94",
   "metadata": {},
   "outputs": [],
   "source": []
  },
  {
   "cell_type": "code",
   "execution_count": null,
   "id": "3d41abb8",
   "metadata": {},
   "outputs": [],
   "source": []
  }
 ],
 "metadata": {
  "kernelspec": {
   "display_name": "Python 3",
   "language": "python",
   "name": "python3"
  }
 },
 "nbformat": 4,
 "nbformat_minor": 5
}
