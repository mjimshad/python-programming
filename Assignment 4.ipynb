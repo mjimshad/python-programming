{
 "cells": [
  {
   "cell_type": "markdown",
   "id": "39d136e7",
   "metadata": {},
   "source": [
    "## 1. Write a Python Program to Find the Factorial of a Number?"
   ]
  },
  {
   "cell_type": "code",
   "execution_count": 7,
   "id": "67d50e16",
   "metadata": {},
   "outputs": [],
   "source": [
    "def fact(num):\n",
    "    \"\"\"factorial of a given number\"\"\"\n",
    "    factorial = 1\n",
    "    if num < 0:\n",
    "        return \"no factorial for negative numbers\"\n",
    "    elif num == 0:\n",
    "        return \"factorial of zero is one\"\n",
    "    else:\n",
    "        while(num>1):\n",
    "            factorial = factorial * num\n",
    "            num -= 1\n",
    "        return factorial"
   ]
  },
  {
   "cell_type": "code",
   "execution_count": 8,
   "id": "51b853a0",
   "metadata": {},
   "outputs": [
    {
     "data": {
      "text/plain": [
       "720"
      ]
     },
     "execution_count": 8,
     "metadata": {},
     "output_type": "execute_result"
    }
   ],
   "source": [
    "fact(6)"
   ]
  },
  {
   "cell_type": "markdown",
   "id": "7ac51ddb",
   "metadata": {},
   "source": [
    "## 2. Write a Python Program to Display the multiplication Table?"
   ]
  },
  {
   "cell_type": "code",
   "execution_count": 22,
   "id": "c06d2056",
   "metadata": {},
   "outputs": [
    {
     "name": "stdout",
     "output_type": "stream",
     "text": [
      "5\n",
      "5 x 1 = 5\n",
      "5 x 2 = 10\n",
      "5 x 3 = 15\n",
      "5 x 4 = 20\n",
      "5 x 5 = 25\n",
      "5 x 6 = 30\n",
      "5 x 7 = 35\n",
      "5 x 8 = 40\n",
      "5 x 9 = 45\n",
      "5 x 10 = 50\n"
     ]
    }
   ],
   "source": [
    "def mul(num):\n",
    "    \"\"\"multiplication table\"\"\"\n",
    "    for i in range(1,11):\n",
    "        print(num,\"x\",i,\"=\",num*i)\n",
    "        \n",
    "n = int(input())\n",
    "mul(n)"
   ]
  },
  {
   "cell_type": "markdown",
   "id": "f72cce2e",
   "metadata": {},
   "source": [
    "## 3. Write a Python Program to Print the Fibonacci sequence?"
   ]
  },
  {
   "cell_type": "code",
   "execution_count": 34,
   "id": "317751b7",
   "metadata": {},
   "outputs": [],
   "source": [
    "def fib(num):\n",
    "    \"\"\"fibonacci sequence\"\"\"\n",
    "    a = 1\n",
    "    b = 1\n",
    "    for i in range(num):\n",
    "        yield a\n",
    "        a,b = b,a+b"
   ]
  },
  {
   "cell_type": "code",
   "execution_count": 35,
   "id": "abb58416",
   "metadata": {},
   "outputs": [
    {
     "name": "stdout",
     "output_type": "stream",
     "text": [
      "1\n",
      "1\n",
      "2\n",
      "3\n",
      "5\n",
      "8\n",
      "13\n",
      "21\n",
      "34\n",
      "55\n"
     ]
    }
   ],
   "source": [
    "for i in fib(10):\n",
    "    print(i)"
   ]
  },
  {
   "cell_type": "markdown",
   "id": "3c6bea71",
   "metadata": {},
   "source": [
    "## 4. Write a Python Program to Check Armstrong Number?"
   ]
  },
  {
   "cell_type": "code",
   "execution_count": 9,
   "id": "73b8fd21",
   "metadata": {},
   "outputs": [],
   "source": [
    "def amst(num):\n",
    "    \"\"\"Function to Check Armstrong Number\"\"\"\n",
    "    orig = num\n",
    "    sum = 0\n",
    "    while(num>0):\n",
    "        sum = sum + (num % 10) * (num % 10) * (num % 10)\n",
    "        num = num // 10\n",
    "    if orig == sum:\n",
    "        return \"Amstrong number\"\n",
    "    else:\n",
    "        return \"Not Amstrong\""
   ]
  },
  {
   "cell_type": "code",
   "execution_count": 10,
   "id": "3e497839",
   "metadata": {},
   "outputs": [
    {
     "data": {
      "text/plain": [
       "'Not Amstrong'"
      ]
     },
     "execution_count": 10,
     "metadata": {},
     "output_type": "execute_result"
    }
   ],
   "source": [
    "amst(663)"
   ]
  },
  {
   "cell_type": "markdown",
   "id": "637cf912",
   "metadata": {},
   "source": [
    "## 5. Write a Python Program to Find Armstrong Number in an Interval?"
   ]
  },
  {
   "cell_type": "code",
   "execution_count": 28,
   "id": "1929fe3e",
   "metadata": {},
   "outputs": [
    {
     "name": "stdout",
     "output_type": "stream",
     "text": [
      "enter lower:1000\n",
      "enter upper:2000\n"
     ]
    }
   ],
   "source": [
    "lower = int(input(\"enter lower:\"))\n",
    "upper = int(input(\"enter upper:\"))\n",
    "\n",
    "for num in range(lower,upper+1):\n",
    "    sum = 0\n",
    "    orig = num\n",
    "    while (num > 0):\n",
    "        sum = sum + (num%10) * (num%10) * (num%10)\n",
    "        num = num // 10\n",
    "    if num == sum:\n",
    "        print(num)"
   ]
  },
  {
   "cell_type": "code",
   "execution_count": 6,
   "id": "6cec25be",
   "metadata": {},
   "outputs": [
    {
     "name": "stdout",
     "output_type": "stream",
     "text": [
      "enter lower:100\n",
      "enter upper:2000\n",
      "153\n",
      "370\n",
      "371\n",
      "407\n",
      "1634\n"
     ]
    }
   ],
   "source": [
    "lower = int(input(\"enter lower:\"))\n",
    "upper = int(input(\"enter upper:\"))\n",
    "\n",
    "for num in range(lower, upper + 1):\n",
    "   order = len(str(num)) \n",
    "   sum = 0\n",
    "   temp = num\n",
    "   while temp > 0:\n",
    "       digit = temp % 10\n",
    "       sum += digit ** order\n",
    "       temp //= 10\n",
    "   if num == sum:\n",
    "       print(num)"
   ]
  },
  {
   "cell_type": "markdown",
   "id": "eb2c56b7",
   "metadata": {},
   "source": [
    "## 6. Write a Python Program to Find the Sum of Natural Numbers?"
   ]
  },
  {
   "cell_type": "code",
   "execution_count": 11,
   "id": "8592ecce",
   "metadata": {},
   "outputs": [],
   "source": [
    "def fun(num):\n",
    "    \"\"\"sum of natural numbers\"\"\"\n",
    "    if (num < 0):\n",
    "        return \"enter a positive number\"\n",
    "    else:\n",
    "        sum = 0\n",
    "        while (num>0):\n",
    "            sum += num\n",
    "            num -= 1\n",
    "        return sum"
   ]
  },
  {
   "cell_type": "code",
   "execution_count": 16,
   "id": "c5bf5884",
   "metadata": {},
   "outputs": [
    {
     "data": {
      "text/plain": [
       "136"
      ]
     },
     "execution_count": 16,
     "metadata": {},
     "output_type": "execute_result"
    }
   ],
   "source": [
    "fun(16)"
   ]
  }
 ],
 "metadata": {
  "kernelspec": {
   "display_name": "Python 3",
   "language": "python",
   "name": "python3"
  },
  "language_info": {
   "codemirror_mode": {
    "name": "ipython",
    "version": 3
   },
   "file_extension": ".py",
   "mimetype": "text/x-python",
   "name": "python",
   "nbconvert_exporter": "python",
   "pygments_lexer": "ipython3",
   "version": "3.8.8"
  }
 },
 "nbformat": 4,
 "nbformat_minor": 5
}
